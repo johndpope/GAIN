{
 "cells": [
  {
   "cell_type": "code",
   "execution_count": null,
   "metadata": {},
   "outputs": [],
   "source": [
    "import os\n",
    "import glob\n",
    "from six.moves import cPickle\n",
    "import numpy as np\n",
    "from PIL import Image\n",
    "from matplotlib import pyplot as plt\n",
    "from matplotlib import colors as mpl_colors\n",
    "%matplotlib inline\n",
    "\n",
    "cmap = mpl_colors.LinearSegmentedColormap.from_list('Custom cmap', [(0.0, 0.0, 0.0), (0.5, 0.0, 0.0), (0.0, 0.5, 0.0), (0.5, 0.5, 0.0), (0.0, 0.0, 0.5), (0.5, 0.0, 0.5), (0.0, 0.5, 0.5), (0.5, 0.5, 0.5), (0.25, 0.0, 0.0), (0.75, 0.0, 0.0), (0.25, 0.5, 0.0), (0.75, 0.5, 0.0),\n",
    "(0.25, 0.0, 0.5), (0.75, 0.0, 0.5), (0.25, 0.5, 0.5), (0.75, 0.5, 0.5), (0.0, 0.25, 0.0), (0.5, 0.25, 0.0), (0.0, 0.75, 0.0), (0.5, 0.75, 0.0), (0.0, 0.25, 0.5)], 21)\n",
    "def compare(cimg_id):\n",
    "    if not os.path.exists('sec-preds/{}.pkl'.format(cimg_id)) or not os.path.exists('gain-preds/{}.pkl'.format(cimg_id)): return\n",
    "    fig = plt.figure(figsize=(20,20))\n",
    "    ax1, ax2, ax3, ax4 = fig.add_subplot('141'), fig.add_subplot('142'), fig.add_subplot('143'), fig.add_subplot('144')\n",
    "    ax1.imshow(Image.open(\"data/VOCdevkit/VOC2012/JPEGImages/{}.jpg\".format(cimg_id)).resize((321,321), Image.ANTIALIAS))\n",
    "    ax2.imshow(cPickle.load(open(\"sec-preds/{}.pkl\".format(cimg_id), 'rb')), vmin=0, vmax=21, cmap=cmap)\n",
    "    ax3.matshow(cPickle.load(open(\"gain-preds/{}.pkl\".format(cimg_id), 'rb')), vmin=0, vmax=21, cmap=cmap)\n",
    "    ax4.imshow(Image.open(\"data/VOCdevkit/VOC2012/SegmentationClassAug/{}.png\".format(cimg_id)).resize((321,321), Image.ANTIALIAS), cmap='gray')\n",
    "    ax1.set_title(cimg_id)\n",
    "    ax2.set_title(\"sec\")\n",
    "    ax3.set_title(\"gain\")\n",
    "    ax4.set_title(\"gt_mask\")\n",
    "    ax1.set_axis_off()\n",
    "    ax2.set_axis_off()\n",
    "    ax3.set_axis_off()\n",
    "    ax4.set_axis_off()\n",
    "    plt.show()\n",
    "\n",
    "\n",
    "for f in glob.glob(\"data/VOCdevkit/VOC2012/JPEGImages/*.jpg\"): compare(f.split('/')[-1].split('.')[0])"
   ]
  }
 ],
 "metadata": {
  "kernelspec": {
   "display_name": "Python 3",
   "language": "python",
   "name": "python3"
  },
  "language_info": {
   "codemirror_mode": {
    "name": "ipython",
    "version": 3
   },
   "file_extension": ".py",
   "mimetype": "text/x-python",
   "name": "python",
   "nbconvert_exporter": "python",
   "pygments_lexer": "ipython3",
   "version": "3.5.2"
  }
 },
 "nbformat": 4,
 "nbformat_minor": 2
}
