{
 "cells": [
  {
   "cell_type": "markdown",
   "metadata": {},
   "source": [
    "# TO-DO\n",
    " * [v] 10epoch baseline[smallDeepLab]: 跑沒有 CRF 的 GAIN-SEC-GCAM, GAIN-GCAM\n",
    " * [v] minmax[smallDeepLab]: 跑沒有 CRF 的 MinMax-GAIN\n",
    "  - `mask_reg_lambda=1`: dominated by the penality 1e4\n",
    "  - `mask_reg_lambda=1e-4`:\n",
    " \n",
    " debug 為何都全選，是不是 classification loss 沒設好？"
   ]
  },
  {
   "cell_type": "code",
   "execution_count": null,
   "metadata": {
    "collapsed": false
   },
   "outputs": [],
   "source": [
    "import os\n",
    "import glob\n",
    "from six.moves import cPickle\n",
    "import numpy as np\n",
    "from PIL import Image\n",
    "from matplotlib import pyplot as plt\n",
    "from matplotlib import colors as mpl_colors\n",
    "\n",
    "%matplotlib inline\n",
    "\n",
    "cmap = mpl_colors.LinearSegmentedColormap.from_list('Custom cmap', [(0.0, 0.0, 0.0), (0.5, 0.0, 0.0), (0.0, 0.5, 0.0), (0.5, 0.5, 0.0), (0.0, 0.0, 0.5), (0.5, 0.0, 0.5), (0.0, 0.5, 0.5), (0.5, 0.5, 0.5), (0.25, 0.0, 0.0), (0.75, 0.0, 0.0), (0.25, 0.5, 0.0), (0.75, 0.5, 0.0),\n",
    "(0.25, 0.0, 0.5), (0.75, 0.0, 0.5), (0.25, 0.5, 0.5), (0.75, 0.5, 0.5), (0.0, 0.25, 0.0), (0.5, 0.25, 0.0), (0.0, 0.75, 0.0), (0.5, 0.75, 0.0), (0.0, 0.25, 0.5)], 21)\n",
    "\n",
    "def prob(img_dir):\n",
    "    for fname in glob.glob('{}-probs/*.pkl'.format(img_dir)):\n",
    "        name_strip = fname.split('/')[-1].split('.')[0]\n",
    "        cimg_id, it_num = name_strip.split('-')[-1], name_strip.split('-')[0]\n",
    "        fig = plt.figure(figsize=(20,20))\n",
    "        ax1, ax2, ax3 = fig.add_subplot('131'), fig.add_subplot('132'), fig.add_subplot('133')\n",
    "        ax1.imshow(Image.open(\"data/VOCdevkit/VOC2012/JPEGImages/{}.jpg\".format(cimg_id)).resize((321,321), Image.ANTIALIAS))\n",
    "        ax2.imshow(cPickle.load(open(fname, 'rb')), vmin=0, vmax=21, cmap=cmap)\n",
    "        ax3.imshow(Image.open(\"data/VOCdevkit/VOC2012/SegmentationClassAug/{}.png\".format(cimg_id)).resize((321,321), Image.ANTIALIAS), cmap='gray')\n",
    "        ax1.set_title(cimg_id)\n",
    "        ax2.set_title('{}-{}'.format(it_num, img_dir))\n",
    "        ax3.set_title(\"gt_mask\")\n",
    "        ax1.set_axis_off()\n",
    "        ax2.set_axis_off()\n",
    "        ax3.set_axis_off()\n",
    "        plt.show()"
   ]
  },
  {
   "cell_type": "code",
   "execution_count": null,
   "metadata": {
    "collapsed": true
   },
   "outputs": [],
   "source": [
    "print('====================== [GAIN-GCAM] ======================')\n",
    "prob('gain_gcam')\n",
    "print('====================== [GAIN-SEC] ======================')\n",
    "prob('gain_sec')"
   ]
  },
  {
   "cell_type": "code",
   "execution_count": null,
   "metadata": {
    "collapsed": false
   },
   "outputs": [],
   "source": []
  }
 ],
 "metadata": {
  "kernelspec": {
   "display_name": "Python 3",
   "language": "python",
   "name": "python3"
  },
  "language_info": {
   "codemirror_mode": {
    "name": "ipython",
    "version": 3
   },
   "file_extension": ".py",
   "mimetype": "text/x-python",
   "name": "python",
   "nbconvert_exporter": "python",
   "pygments_lexer": "ipython3",
   "version": "3.5.2"
  },
  "latex_envs": {
   "LaTeX_envs_menu_present": true,
   "autoclose": false,
   "autocomplete": true,
   "bibliofile": "biblio.bib",
   "cite_by": "apalike",
   "current_citInitial": 1,
   "eqLabelWithNumbers": true,
   "eqNumInitial": 1,
   "hotkeys": {
    "equation": "Ctrl-E",
    "itemize": "Ctrl-I"
   },
   "labels_anchors": false,
   "latex_user_defs": false,
   "report_style_numbering": false,
   "user_envs_cfg": false
  }
 },
 "nbformat": 4,
 "nbformat_minor": 2
}
